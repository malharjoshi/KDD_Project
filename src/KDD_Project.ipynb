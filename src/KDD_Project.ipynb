{
  "nbformat": 4,
  "nbformat_minor": 0,
  "metadata": {
    "colab": {
      "name": "KDD_Project.ipynb",
      "provenance": [],
      "collapsed_sections": [
        "k9qpYpEIVXkm",
        "TAmj43vRVgrX",
        "TxGXBYO3VmRQ",
        "RC4NBM24Vrbw",
        "BFKeJ9X9VygO",
        "gwFCX2IpV49V",
        "osapGmWNV8k2",
        "pFawbI8EWEl1",
        "LQZNXzmUWKAT",
        "4r-Ap8JmWSqK",
        "m5c-HcvjUs0J",
        "fxbBSTVBUwen",
        "QpG-6rbzU3W_",
        "xfaw10xcAZYe",
        "81zUbjCRAizm",
        "maF2gVOIKApz"
      ]
    },
    "kernelspec": {
      "name": "python3",
      "display_name": "Python 3"
    },
    "language_info": {
      "name": "python"
    }
  },
  "cells": [
    {
      "cell_type": "markdown",
      "metadata": {
        "id": "k9qpYpEIVXkm"
      },
      "source": [
        "Group 4:\n",
        "\n",
        "1.  Harikrishnan Sundaram\n",
        "2.  Malhar Joshi\n",
        "3. Yash Chaudhari\n",
        "4. Dhruv Jani\n",
        "****\n",
        "\n",
        "#**AIM OF THE PROJECT:**\n",
        "To draw insights from a Tennis dataset w.r.t players age and correlation with the win and loss trend and analyzing the change in participation and performance of the tennis players from major countries like USA, UK, etc. In the earlier days of Tennis, the players would retire by the age of 30, but in recent times, the players have been playing at the age of around 35 and performing well. We will be analyzing the change in the pattern of participation among the tennis players.\n",
        "****\n",
        "#**RESEARCH QUESTIONS:**\n",
        "1.\tWhat is the win percentage of players having the age in the range of 20-25, 25-30, 30-35 vs 35 and above for male and female players?\n",
        "2.\tWhat is the different winning percentage of a player from a specific country on different surfaces? \n",
        "3.\tThe percentage of wins between players from the US vs other popular countries and between age groups ranging from 20-25, 25-30, 30-35 vs 35 and above. \n",
        "4.\tWhat factor is influencing the change in the trend of all male and female players winning the championship? If it's the surface, the age, or some other reason.\n",
        "****\n",
        "#**ANALYSIS:**\n",
        "For this project we will be using **Descriptive Analysis**.\n",
        "Descriptive analysis is the process of using statistical techniques to describe or summarize a set of data. It is popular for its ability to generate accessible insights from otherwise uninterpreted data.\n",
        "\n",
        "****\n",
        "\n",
        "\n",
        "\n",
        "Export the zip file and place all the dataset in the directory.\n",
        "\n"
      ]
    },
    {
      "cell_type": "markdown",
      "metadata": {
        "id": "puzHfuov6LWi"
      },
      "source": [
        "#**Importing all necessary libraries**"
      ]
    },
    {
      "cell_type": "code",
      "metadata": {
        "id": "aoojlZTXgOLn"
      },
      "source": [
        "import pandas as pd\n",
        "from glob import glob\n",
        "\n",
        "import numpy as np \n",
        "import matplotlib as mpl\n",
        "import matplotlib.pyplot as plt\n",
        "\n",
        "from sklearn.cluster import KMeans\n",
        "from matplotlib.lines import Line2D\n",
        "\n",
        "mpl.rcParams['figure.figsize'] = (20,8)\n",
        "mpl.rcParams['axes.grid'] = False"
      ],
      "execution_count": null,
      "outputs": []
    },
    {
      "cell_type": "markdown",
      "metadata": {
        "id": "TAmj43vRVgrX"
      },
      "source": [
        "#**Reading all the datafiles for the male players**"
      ]
    },
    {
      "cell_type": "code",
      "metadata": {
        "id": "dYmPvdWqQHXp"
      },
      "source": [
        "male_files = glob(\"atp*\")"
      ],
      "execution_count": null,
      "outputs": []
    },
    {
      "cell_type": "code",
      "metadata": {
        "id": "t-ZuWc5cQVvz",
        "colab": {
          "base_uri": "https://localhost:8080/"
        },
        "outputId": "68018405-a87b-40a6-b26c-6dcac9ec36dc"
      },
      "source": [
        "male_files"
      ],
      "execution_count": null,
      "outputs": [
        {
          "output_type": "execute_result",
          "data": {
            "text/plain": [
              "['atp_matches_2003.csv',\n",
              " 'atp_matches_2017.csv',\n",
              " 'atp_matches_1982.csv',\n",
              " 'atp_matches_2008.csv',\n",
              " 'atp_matches_1994.csv',\n",
              " 'atp_matches_1978.csv',\n",
              " 'atp_matches_1991.csv',\n",
              " 'atp_matches_1979.csv',\n",
              " 'atp_matches_1973.csv',\n",
              " 'atp_matches_2004.csv',\n",
              " 'atp_matches_2015.csv',\n",
              " 'atp_matches_2016.csv',\n",
              " 'atp_matches_1993.csv',\n",
              " 'atp_matches_1977.csv',\n",
              " 'atp_matches_2019.csv',\n",
              " 'atp_matches_1983.csv',\n",
              " 'atp_matches_2000.csv',\n",
              " 'atp_matches_2010.csv',\n",
              " 'atp_matches_2009.csv',\n",
              " 'atp_matches_1996.csv',\n",
              " 'atp_matches_1985.csv',\n",
              " 'atp_matches_2001.csv',\n",
              " 'atp_matches_1981.csv',\n",
              " 'atp_matches_1995.csv',\n",
              " 'atp_matches_1997.csv',\n",
              " 'atp_matches_2013.csv',\n",
              " 'atp_matches_2007.csv',\n",
              " 'atp_matches_2012.csv',\n",
              " 'atp_matches_1974.csv',\n",
              " 'atp_matches_1976.csv',\n",
              " 'atp_matches_1972.csv',\n",
              " 'atp_matches_1998.csv',\n",
              " 'atp_matches_1990.csv',\n",
              " 'atp_matches_1987.csv',\n",
              " 'atp_matches_1975.csv',\n",
              " 'atp_matches_1970.csv',\n",
              " 'atp_matches_2021.csv',\n",
              " 'atp_matches_1988.csv',\n",
              " 'atp_matches_2011.csv',\n",
              " 'atp_matches_2014.csv',\n",
              " 'atp_matches_1999.csv',\n",
              " 'atp_matches_1980.csv',\n",
              " 'atp_matches_2002.csv',\n",
              " 'atp_matches_1989.csv',\n",
              " 'atp_matches_1971.csv',\n",
              " 'atp_matches_2020.csv',\n",
              " 'atp_matches_1992.csv',\n",
              " 'atp_matches_1986.csv',\n",
              " 'atp_matches_2005.csv',\n",
              " 'atp_matches_2006.csv',\n",
              " 'atp_matches_1984.csv',\n",
              " 'atp_matches_2018.csv']"
            ]
          },
          "metadata": {},
          "execution_count": 3
        }
      ]
    },
    {
      "cell_type": "markdown",
      "metadata": {
        "id": "TxGXBYO3VmRQ"
      },
      "source": [
        "#**Sorting the datafiles according to the year**"
      ]
    },
    {
      "cell_type": "code",
      "metadata": {
        "id": "c2toRivWQYLE",
        "colab": {
          "base_uri": "https://localhost:8080/"
        },
        "outputId": "c6a12ff4-f5f0-4e80-ec8b-5ab78f530a7e"
      },
      "source": [
        "male_files.sort()\n",
        "male_files"
      ],
      "execution_count": null,
      "outputs": [
        {
          "output_type": "execute_result",
          "data": {
            "text/plain": [
              "['atp_matches_1970.csv',\n",
              " 'atp_matches_1971.csv',\n",
              " 'atp_matches_1972.csv',\n",
              " 'atp_matches_1973.csv',\n",
              " 'atp_matches_1974.csv',\n",
              " 'atp_matches_1975.csv',\n",
              " 'atp_matches_1976.csv',\n",
              " 'atp_matches_1977.csv',\n",
              " 'atp_matches_1978.csv',\n",
              " 'atp_matches_1979.csv',\n",
              " 'atp_matches_1980.csv',\n",
              " 'atp_matches_1981.csv',\n",
              " 'atp_matches_1982.csv',\n",
              " 'atp_matches_1983.csv',\n",
              " 'atp_matches_1984.csv',\n",
              " 'atp_matches_1985.csv',\n",
              " 'atp_matches_1986.csv',\n",
              " 'atp_matches_1987.csv',\n",
              " 'atp_matches_1988.csv',\n",
              " 'atp_matches_1989.csv',\n",
              " 'atp_matches_1990.csv',\n",
              " 'atp_matches_1991.csv',\n",
              " 'atp_matches_1992.csv',\n",
              " 'atp_matches_1993.csv',\n",
              " 'atp_matches_1994.csv',\n",
              " 'atp_matches_1995.csv',\n",
              " 'atp_matches_1996.csv',\n",
              " 'atp_matches_1997.csv',\n",
              " 'atp_matches_1998.csv',\n",
              " 'atp_matches_1999.csv',\n",
              " 'atp_matches_2000.csv',\n",
              " 'atp_matches_2001.csv',\n",
              " 'atp_matches_2002.csv',\n",
              " 'atp_matches_2003.csv',\n",
              " 'atp_matches_2004.csv',\n",
              " 'atp_matches_2005.csv',\n",
              " 'atp_matches_2006.csv',\n",
              " 'atp_matches_2007.csv',\n",
              " 'atp_matches_2008.csv',\n",
              " 'atp_matches_2009.csv',\n",
              " 'atp_matches_2010.csv',\n",
              " 'atp_matches_2011.csv',\n",
              " 'atp_matches_2012.csv',\n",
              " 'atp_matches_2013.csv',\n",
              " 'atp_matches_2014.csv',\n",
              " 'atp_matches_2015.csv',\n",
              " 'atp_matches_2016.csv',\n",
              " 'atp_matches_2017.csv',\n",
              " 'atp_matches_2018.csv',\n",
              " 'atp_matches_2019.csv',\n",
              " 'atp_matches_2020.csv',\n",
              " 'atp_matches_2021.csv']"
            ]
          },
          "metadata": {},
          "execution_count": 4
        }
      ]
    },
    {
      "cell_type": "markdown",
      "metadata": {
        "id": "RC4NBM24Vrbw"
      },
      "source": [
        "#**Concatinating all the male players datafiles into a single dataframe**"
      ]
    },
    {
      "cell_type": "code",
      "metadata": {
        "id": "Xk6biZQjQgoT"
      },
      "source": [
        "male_data = pd.concat ((pd.read_csv(file) for file in male_files), ignore_index= True)"
      ],
      "execution_count": null,
      "outputs": []
    },
    {
      "cell_type": "code",
      "metadata": {
        "id": "s9a17am44G1d"
      },
      "source": [
        "from google.colab import drive\n",
        "drive.mount('/content/drive')"
      ],
      "execution_count": null,
      "outputs": []
    },
    {
      "cell_type": "markdown",
      "metadata": {
        "id": "BFKeJ9X9VygO"
      },
      "source": [
        "#**The final male players dataset:**"
      ]
    },
    {
      "cell_type": "code",
      "metadata": {
        "id": "9WjqFLJXRU3P"
      },
      "source": [
        "male_data.head()"
      ],
      "execution_count": null,
      "outputs": []
    },
    {
      "cell_type": "code",
      "metadata": {
        "id": "JXf8kxdmoByJ"
      },
      "source": [
        "male_data.shape"
      ],
      "execution_count": null,
      "outputs": []
    },
    {
      "cell_type": "markdown",
      "metadata": {
        "id": "gwFCX2IpV49V"
      },
      "source": [
        "#**Reading all the datafiles for the female players**"
      ]
    },
    {
      "cell_type": "code",
      "metadata": {
        "id": "qbQjc8BuRWsl"
      },
      "source": [
        "female_files = glob(\"wta*\")"
      ],
      "execution_count": null,
      "outputs": []
    },
    {
      "cell_type": "code",
      "metadata": {
        "id": "psmJVM7ZR57B"
      },
      "source": [
        "female_files"
      ],
      "execution_count": null,
      "outputs": []
    },
    {
      "cell_type": "markdown",
      "metadata": {
        "id": "osapGmWNV8k2"
      },
      "source": [
        "#**Sorting the datafiles according to the year**"
      ]
    },
    {
      "cell_type": "code",
      "metadata": {
        "id": "zpgfFiHkR9vZ"
      },
      "source": [
        "female_files.sort()\n",
        "female_files"
      ],
      "execution_count": null,
      "outputs": []
    },
    {
      "cell_type": "markdown",
      "metadata": {
        "id": "pFawbI8EWEl1"
      },
      "source": [
        "#**Concatinating all the female players datafiles into a single dataframe**"
      ]
    },
    {
      "cell_type": "code",
      "metadata": {
        "id": "YMfaMIwJSAch"
      },
      "source": [
        "female_data = pd.concat ((pd.read_csv(file) for file in female_files), ignore_index= True)"
      ],
      "execution_count": null,
      "outputs": []
    },
    {
      "cell_type": "markdown",
      "metadata": {
        "id": "LQZNXzmUWKAT"
      },
      "source": [
        "#**The final female players dataset:**"
      ]
    },
    {
      "cell_type": "code",
      "metadata": {
        "id": "h0H1usz1SBPe"
      },
      "source": [
        "female_data.head()"
      ],
      "execution_count": null,
      "outputs": []
    },
    {
      "cell_type": "code",
      "metadata": {
        "id": "TKh0xQOwoLei"
      },
      "source": [
        "female_data.shape"
      ],
      "execution_count": null,
      "outputs": []
    },
    {
      "cell_type": "markdown",
      "metadata": {
        "id": "4r-Ap8JmWSqK"
      },
      "source": [
        "#**Data Preprocessing Steps**\n",
        "**Below are the established steps we’ll need to go through to make sure our data is successfully preprocessed.**\n",
        "\n",
        "**1. Data quality assessment**\n",
        "\n",
        "**2. Data cleaning**\n",
        "\n",
        "**3. Data reduction**"
      ]
    },
    {
      "cell_type": "markdown",
      "metadata": {
        "id": "MhwqgFptWNFI"
      },
      "source": [
        "**1. Data quality assessment**\n",
        "\n",
        "First we take a good look at our data and get an idea of its overall quality, relevance to our project, and consistency. There are a number of data anomalies and inherent problems to look out for in almost any data set, for example:\n",
        "\n",
        "Mismatched data types: When you collect data from many different sources, it may come to you in different formats.\n",
        "\n",
        "Mixed data values: Perhaps different sources use different descriptors for features – for example, man or male. These value descriptors should all be made uniform.\n",
        "\n",
        "Data outliers: Outliers can have a huge impact on data analysis results.\n",
        "\n",
        "Missing data: Take a look for missing data fields, blank spaces in text, or unanswered survey questions. This could be due to human error or incomplete data. To take care of missing data, you’ll have to perform data cleaning.\n",
        "\n",
        "\n",
        "Since all our data comes from a single source we can conclude that there are no inconsistencies with respect to the quality, data types and data values."
      ]
    },
    {
      "cell_type": "markdown",
      "metadata": {
        "id": "1D7GTsLaZhfD"
      },
      "source": [
        "**2. Data cleaning**\n",
        "\n",
        "Data cleaning is the process of adding missing data and correcting, repairing, or removing incorrect or irrelevant data from a data set. Dating cleaning is the most important step of preprocessing because it will ensure that your data is ready to go for your downstream needs.\n",
        "\n",
        "Data cleaning will correct all of the inconsistent data you uncovered in your data quality assessment. Depending on the kind of data you’re working with, there are a number of possible cleaners you’ll need to run your data through.\n",
        "\n",
        "Missing data\n",
        "There are a number of ways to correct for missing data, but the two most common are:\n",
        "\n",
        "Ignore the tuples: A tuple is an ordered list or sequence of numbers or entities. If multiple values are missing within tuples, you may simply discard the tuples with that missing information. This is only recommended for large data sets, when a few ignored tuples won’t harm further analysis.\n",
        "\n",
        "Manually fill in missing data: This can be tedious, but is definitely necessary when working with smaller data sets.\n",
        "\n",
        "\n",
        "#**Let us check our datasets for any missing data.**"
      ]
    },
    {
      "cell_type": "code",
      "metadata": {
        "id": "BaluTiUgZ3lW"
      },
      "source": [
        "missing_male_data = male_data.isnull()\n",
        "missing_male_data.head()"
      ],
      "execution_count": null,
      "outputs": []
    },
    {
      "cell_type": "code",
      "metadata": {
        "id": "oSI7GfYMbJcd"
      },
      "source": [
        "missing_female_data = female_data.isnull()\n",
        "missing_female_data.head()"
      ],
      "execution_count": null,
      "outputs": []
    },
    {
      "cell_type": "markdown",
      "metadata": {
        "id": "8jkdzZ2OcIt5"
      },
      "source": [
        "**We can see from the above values that our datasets contain null values which could be harmful for our analysis.**\n",
        "\n",
        "**Lets see the count of the null values for each columns and then find the overall percentage of those null values.**\n"
      ]
    },
    {
      "cell_type": "markdown",
      "metadata": {
        "id": "yNJVOpuxfpnZ"
      },
      "source": [
        "**First lets do it for the Male players dataframe**"
      ]
    },
    {
      "cell_type": "code",
      "metadata": {
        "id": "DdW5j4C7cHI-"
      },
      "source": [
        "sum_missing_male_data = missing_male_data.sum()\n",
        "sum_missing_male_data"
      ],
      "execution_count": null,
      "outputs": []
    },
    {
      "cell_type": "code",
      "metadata": {
        "id": "7f4ajXSYehsW"
      },
      "source": [
        "len(male_data)"
      ],
      "execution_count": null,
      "outputs": []
    },
    {
      "cell_type": "code",
      "metadata": {
        "id": "BEsLHkC-ey_p"
      },
      "source": [
        "percentage_missing_male_data = (sum_missing_male_data / len(male_data))*100\n",
        "percentage_missing_male_data"
      ],
      "execution_count": null,
      "outputs": []
    },
    {
      "cell_type": "markdown",
      "metadata": {
        "id": "Fdx2r_8Bflt1"
      },
      "source": [
        "**Now for the female players dataframe**"
      ]
    },
    {
      "cell_type": "code",
      "metadata": {
        "id": "0CJ8Ing8fLrU"
      },
      "source": [
        "sum_missing_female_data = missing_female_data.sum()\n",
        "sum_missing_female_data"
      ],
      "execution_count": null,
      "outputs": []
    },
    {
      "cell_type": "code",
      "metadata": {
        "id": "x5ie04Bgf1Xe"
      },
      "source": [
        "len(female_data)"
      ],
      "execution_count": null,
      "outputs": []
    },
    {
      "cell_type": "code",
      "metadata": {
        "id": "sAcQAyxXf2qa"
      },
      "source": [
        "percentage_missing_female_data = (sum_missing_female_data / len(female_data))*100\n",
        "percentage_missing_female_data"
      ],
      "execution_count": null,
      "outputs": []
    },
    {
      "cell_type": "markdown",
      "metadata": {
        "id": "WxncsGMNgGNx"
      },
      "source": [
        "**From the above analysis we can see that there are many columns in both the datafarmes with very high percentage of missing data. We will now drop those columns from the dataframes.**"
      ]
    },
    {
      "cell_type": "code",
      "metadata": {
        "id": "PPjwL4aoirBE"
      },
      "source": [
        "male_perc = 50.0\n",
        "male_min_count = int(((100-male_perc)/100)*male_data.shape[0] + 1)\n",
        "new_male_data = male_data.dropna( axis=1, \n",
        "                thresh=male_min_count)\n",
        "\n",
        "female_perc = 70.0\n",
        "female_min_count = int(((100-female_perc)/100)*female_data.shape[0] + 1)\n",
        "new_female_data = female_data.dropna(axis =1, thresh = female_min_count)"
      ],
      "execution_count": null,
      "outputs": []
    },
    {
      "cell_type": "code",
      "metadata": {
        "id": "BAp-yAG7mpkx"
      },
      "source": [
        "new_male_data.head()"
      ],
      "execution_count": null,
      "outputs": []
    },
    {
      "cell_type": "code",
      "metadata": {
        "id": "goWiLliOopV4"
      },
      "source": [
        "new_male_data.shape"
      ],
      "execution_count": null,
      "outputs": []
    },
    {
      "cell_type": "code",
      "metadata": {
        "id": "pbDiD4jrmrRC"
      },
      "source": [
        "new_female_data.head()"
      ],
      "execution_count": null,
      "outputs": []
    },
    {
      "cell_type": "code",
      "metadata": {
        "id": "KfjyULPgoxk5"
      },
      "source": [
        "new_female_data.shape"
      ],
      "execution_count": null,
      "outputs": []
    },
    {
      "cell_type": "markdown",
      "metadata": {
        "id": "7B_rs6r7pg9L"
      },
      "source": [
        "**There are some columns with missing data which are useful for our analysis. Let us fill those columns with either a string or mean of the values in those columns.**"
      ]
    },
    {
      "cell_type": "code",
      "metadata": {
        "id": "RUW7bnH4u5E_"
      },
      "source": [
        "percentage_missing_male_data"
      ],
      "execution_count": null,
      "outputs": []
    },
    {
      "cell_type": "markdown",
      "metadata": {
        "id": "jrH8eg_IUVqh"
      },
      "source": [
        "#**Changed the null values in Surface column  to 'Not Mentioned'**"
      ]
    },
    {
      "cell_type": "code",
      "metadata": {
        "id": "h8Yi-GKOwG5l"
      },
      "source": [
        "new_male_data.surface.fillna('Not Mentioned', inplace=True)\n",
        "new_male_data.tail()"
      ],
      "execution_count": null,
      "outputs": []
    },
    {
      "cell_type": "code",
      "metadata": {
        "id": "XU7eN8LIwiIT"
      },
      "source": [
        "frequency = new_male_data['surface'].value_counts(dropna=False)\n",
        "frequency"
      ],
      "execution_count": null,
      "outputs": []
    },
    {
      "cell_type": "code",
      "metadata": {
        "id": "AbsHCOEHDBLs"
      },
      "source": [
        "new_female_data.surface.fillna('Not Mentioned', inplace=True)\n",
        "new_female_data.tail()"
      ],
      "execution_count": null,
      "outputs": []
    },
    {
      "cell_type": "code",
      "metadata": {
        "id": "jzQ3z4dnDGGS"
      },
      "source": [
        "frequency = new_female_data['surface'].value_counts(dropna=False)\n",
        "frequency"
      ],
      "execution_count": null,
      "outputs": []
    },
    {
      "cell_type": "markdown",
      "metadata": {
        "id": "m5c-HcvjUs0J"
      },
      "source": [
        "#**Below we are changing the null values in winner_age & loser_age columns of Male players to its mean.**"
      ]
    },
    {
      "cell_type": "code",
      "metadata": {
        "id": "DYzBPJpZD2Xs"
      },
      "source": [
        "mean_male_winner_age = new_male_data['winner_age'].mean()\n",
        "print(mean_male_winner_age)\n",
        "mean_male_loser_age = new_male_data['loser_age'].mean()\n",
        "print(mean_male_loser_age)"
      ],
      "execution_count": null,
      "outputs": []
    },
    {
      "cell_type": "code",
      "metadata": {
        "id": "JwXVbY4UEqEp"
      },
      "source": [
        "new_male_data.winner_age.fillna(mean_male_winner_age, inplace=True)\n",
        "new_male_data.loser_age.fillna(mean_male_loser_age, inplace=True)\n"
      ],
      "execution_count": null,
      "outputs": []
    },
    {
      "cell_type": "markdown",
      "metadata": {
        "id": "fxbBSTVBUwen"
      },
      "source": [
        "#**Below we are changing the null values in winner_age & loser_age columns of Female players to its mean.**"
      ]
    },
    {
      "cell_type": "code",
      "metadata": {
        "id": "7_isiY2MF-yD"
      },
      "source": [
        "mean_female_loser_age = new_female_data['loser_age'].mean()\n",
        "print(mean_female_loser_age)\n",
        "mean_female_winner_age = new_female_data['winner_age'].mean()\n",
        "print(mean_female_winner_age)"
      ],
      "execution_count": null,
      "outputs": []
    },
    {
      "cell_type": "code",
      "metadata": {
        "id": "OPbm_63hGQQh"
      },
      "source": [
        "new_female_data.loser_age.fillna(mean_female_loser_age, inplace=True)\n",
        "new_female_data.winner_age.fillna(mean_female_winner_age, inplace=True)"
      ],
      "execution_count": null,
      "outputs": []
    },
    {
      "cell_type": "markdown",
      "metadata": {
        "id": "QpG-6rbzU3W_"
      },
      "source": [
        "#**Below we are changing the null values in winner_ht & loser_ht columns of Male players to its mean.**\n",
        "\n"
      ]
    },
    {
      "cell_type": "code",
      "metadata": {
        "id": "hhr60IUYBbPy"
      },
      "source": [
        "mean_winner_ht = new_male_data['winner_ht'].mean()\n",
        "print(mean_winner_ht)\n",
        "new_male_data.winner_ht.fillna(mean_winner_ht, inplace=True)"
      ],
      "execution_count": null,
      "outputs": []
    },
    {
      "cell_type": "code",
      "metadata": {
        "id": "79lN9_BTB_SM"
      },
      "source": [
        "mean_loser_ht = new_male_data['loser_ht'].mean()\n",
        "print(mean_loser_ht)\n",
        "new_male_data.loser_ht.fillna(mean_loser_ht, inplace=True)"
      ],
      "execution_count": null,
      "outputs": []
    },
    {
      "cell_type": "markdown",
      "metadata": {
        "id": "xfaw10xcAZYe"
      },
      "source": [
        "#**Below we are changing the null values in winner_ht & loser_ht columns of Female players to its mean.**"
      ]
    },
    {
      "cell_type": "code",
      "metadata": {
        "id": "mu3JatbdD0GC"
      },
      "source": [
        "mean_floser_ht = new_female_data['loser_ht'].mean()\n",
        "print(mean_floser_ht)\n",
        "new_female_data.loser_ht.fillna(mean_floser_ht, inplace=True)"
      ],
      "execution_count": null,
      "outputs": []
    },
    {
      "cell_type": "code",
      "metadata": {
        "id": "-qtlwc4G38OH"
      },
      "source": [
        "mean_fwinner_ht = new_female_data['winner_ht'].mean()\n",
        "print(mean_fwinner_ht)\n",
        "new_female_data.winner_ht.fillna(mean_fwinner_ht, inplace=True)"
      ],
      "execution_count": null,
      "outputs": []
    },
    {
      "cell_type": "markdown",
      "metadata": {
        "id": "81zUbjCRAizm"
      },
      "source": [
        "**3. Data reduction**\n",
        "The more data you’re working with, the harder it will be to analyze, even after cleaning and transforming it. Depending on your task at hand, you may actually have more data than you need. Data reduction not only makes the analysis easier and more accurate, but cuts down on data storage.\n",
        "\n",
        "It will also help identify the most important features to the process at hand.\n",
        "\n",
        "Attribute selection: Similar to discreditization, attribute selection can fit your data into smaller pools. It, essentially, combines tags or features, so that tags like male/female and professor could be combined into male professor/female professor.\n",
        "\n",
        "Numerosity reduction: This will help with data storage and transmission. You can use a regression model, for example, to use only the data and variables that are relevant to your analysis.\n",
        "\n",
        "Dimensionality reduction: This, again, reduces the amount of data used to help facilitate analysis and downstream processes. Algorithms like K-nearest neighbors use pattern recognition to combine similar data and make it more manageable.\n",
        "\n",
        "\n",
        "#**We will now drop all the columns from the Male and Female Players Dataframes to reduce our dataset and make it more efficient for our Descriptive Analysis.**"
      ]
    },
    {
      "cell_type": "code",
      "metadata": {
        "id": "qnNL6ioRA4PE"
      },
      "source": [
        "new_female_data = new_female_data.drop(new_female_data.columns.difference(['tourney_date', 'tourney_name', 'surface', 'winner_id', 'winner_name', 'winner_hand', 'winner_age', 'winner_ht', 'winner_ioc', 'loser_id', 'loser_name', 'loser_hand', 'loser_age', 'loser_ht', 'loser_ioc', 'round']), 1)\n",
        "new_female_data"
      ],
      "execution_count": null,
      "outputs": []
    },
    {
      "cell_type": "code",
      "metadata": {
        "id": "AGgNbd0zP9WF"
      },
      "source": [
        "new_male_data = new_male_data.drop(new_male_data.columns.difference(['tourney_date', 'tourney_name', 'surface', 'winner_id', 'winner_name', 'winner_hand', 'winner_age', 'winner_ht', 'winner_ioc', 'loser_id', 'loser_name', 'loser_hand', 'loser_age', 'loser_ht', 'loser_ioc', 'round']), 1)\n",
        "new_male_data"
      ],
      "execution_count": null,
      "outputs": []
    },
    {
      "cell_type": "markdown",
      "metadata": {
        "id": "w9Ugc6sMB4eX"
      },
      "source": [
        "#**Plotting some graphs to better understand our datasets**"
      ]
    },
    {
      "cell_type": "code",
      "metadata": {
        "id": "Lvfxh4J3WFrr"
      },
      "source": [
        "new_male_data.winner_ioc.fillna('Test', inplace=True)\n",
        "plt.figure(figsize=(10, 8), dpi=80)\n",
        "plt_1 = new_male_data[['surface','winner_ioc','winner_id']].groupby(['surface','winner_ioc']).size().reset_index(name='counts').sort_values('counts',ascending=False).head(10)\n",
        "\n",
        "N = 50\n",
        "x = plt_1['surface']\n",
        "y = plt_1['winner_ioc']\n",
        "s=plt_1['counts']\n",
        "#colors = np.random.rand(len())\n",
        "\n",
        "plt.scatter(x, y,s, alpha=0.5)\n",
        "\n",
        "plt.title('\\n\\nFIGURE 1: SURFACE VS COUNTRY\\n\\n', fontweight='bold', fontsize=18)\n",
        "plt.xlabel(\"\\nTYPE OF SURFACE\", fontsize=18)\n",
        "plt.ylabel(\"COUNTRY\\n\", fontsize=18)\n",
        "\n",
        "plt.show()"
      ],
      "execution_count": null,
      "outputs": []
    },
    {
      "cell_type": "markdown",
      "metadata": {
        "id": "uekHWL6a3c05"
      },
      "source": [
        "**The above graph gives a view of country vs surface which can help us understand which country plays better on which surface. This can help us understand where players of a certain country need to improve. Eg: USA plays very good on Hard surfaces as compared to Grass. This shows us that players in United States need to focus on Grass courts more.**"
      ]
    },
    {
      "cell_type": "code",
      "metadata": {
        "id": "TCvvFXpM8Ypj"
      },
      "source": [
        "mpl.rcParams['figure.figsize'] = (20,8)\n",
        "plt_2 = new_male_data[new_male_data['round'] == 'F']\n",
        "\n",
        "conditions = [\n",
        "    (plt_2['winner_age'] >=20) & (plt_2['winner_age'] <25),\n",
        "    (plt_2['winner_age'] >=25) & (plt_2['winner_age'] <30),\n",
        "    (plt_2['winner_age'] >=30) & (plt_2['winner_age'] <35),\n",
        "    (plt_2['winner_age'] >35)  ]\n",
        "\n",
        "values = ['20 to 25', '25 to 30', '30 to 35', '35+']\n",
        "plt_2['AgeGroup'] = np.select(conditions, values)\n",
        "plt_2 = plt_2[['AgeGroup','tourney_date']]\n",
        "plt_2['tourney_date'] = plt_2['tourney_date']//10000\n",
        "plt_2 = plt_2.groupby(['AgeGroup','tourney_date']).size().reset_index(name='counts').sort_values('counts',ascending=False)\n",
        "plt_2 = plt_2[plt_2['tourney_date'] >= 1970]\n",
        "\n",
        "plt_2_1 = plt_2[plt_2['AgeGroup'] == '20 to 25']\n",
        "plt_2_2 = plt_2[plt_2['AgeGroup'] == '25 to 30']\n",
        "plt_2_3 = plt_2[plt_2['AgeGroup'] == '30 to 35']\n",
        "plt_2_4 = plt_2[plt_2['AgeGroup'] == '35+']\n",
        "\n",
        "\n",
        "plt.bar(plt_2_1['tourney_date'],plt_2_1['counts'],color = 'blue')\n",
        "plt.bar(plt_2_2['tourney_date'],plt_2_2['counts'],color = 'red')\n",
        "plt.bar(plt_2_3['tourney_date'],plt_2_3['counts'],color = 'green')\n",
        "plt.bar(plt_2_4['tourney_date'],plt_2_4['counts'],color = 'orange')\n",
        "\n",
        "plt.title('FIGURE 2: WINNING AGE GROUP MALE PLAYERS', fontweight='bold', fontsize=18)\n",
        "plt.xlabel(\"YEAR\", fontsize=18)\n",
        "plt.ylabel(\"NO. OF PLAYERS\", fontsize=18)\n",
        "\n",
        "plt.legend(values)\n",
        "\n",
        "plt.show()"
      ],
      "execution_count": null,
      "outputs": []
    },
    {
      "cell_type": "markdown",
      "metadata": {
        "id": "baC_xR244spP"
      },
      "source": [
        "**The above graph gives a view of age vs year of male players, which shows us which age group performed well given an year. The colors represent the following**\n",
        "\n",
        "**1. Blue : Ages 20 to 25**\n",
        "\n",
        "**2. Red: Ages 25 to 30**\n",
        "\n",
        "**3. Green: Ages 30 to 35**\n",
        "\n",
        "**4. Orange: Ages 35 and above**\n",
        "\n",
        "**As we can see, players between the ages of 25 and 30 had consistent wins in games as compared to other age groups.**\n",
        "\n",
        "**Age group 20 to 25 had some years with higher win percentage but weren't consistent for long.**\n",
        "\n",
        "**Age groups 30 to 35 and 35 and above had the worst win percentages.**"
      ]
    },
    {
      "cell_type": "code",
      "metadata": {
        "id": "1DdQgy_RDZ-j"
      },
      "source": [
        "mpl.rcParams['figure.figsize'] = (20,8)\n",
        "plt_2 = new_female_data[new_female_data['round'] == 'F']\n",
        "\n",
        "conditions = [\n",
        "    (plt_2['winner_age'] >=20) & (plt_2['winner_age'] <25),\n",
        "    (plt_2['winner_age'] >=25) & (plt_2['winner_age'] <30),\n",
        "    (plt_2['winner_age'] >=30) & (plt_2['winner_age'] <35),\n",
        "    (plt_2['winner_age'] >35)  ]\n",
        "\n",
        "values = ['20 to 25', '25 to 30', '30 to 35', '35+']\n",
        "plt_2['AgeGroup'] = np.select(conditions, values)\n",
        "plt_2 = plt_2[['AgeGroup','tourney_date']]\n",
        "plt_2['tourney_date'] = plt_2['tourney_date']//10000\n",
        "plt_2 = plt_2.groupby(['AgeGroup','tourney_date']).size().reset_index(name='counts').sort_values('counts',ascending=False)\n",
        "plt_2 = plt_2[plt_2['tourney_date'] >= 1970]\n",
        "\n",
        "plt_2_1 = plt_2[plt_2['AgeGroup'] == '20 to 25']\n",
        "plt_2_2 = plt_2[plt_2['AgeGroup'] == '25 to 30']\n",
        "plt_2_3 = plt_2[plt_2['AgeGroup'] == '30 to 35']\n",
        "plt_2_4 = plt_2[plt_2['AgeGroup'] == '35+']\n",
        "\n",
        "\n",
        "plt.bar(plt_2_1['tourney_date'],plt_2_1['counts'],color = 'blue')\n",
        "plt.bar(plt_2_2['tourney_date'],plt_2_2['counts'],color = 'red')\n",
        "plt.bar(plt_2_3['tourney_date'],plt_2_3['counts'],color = 'green')\n",
        "plt.bar(plt_2_4['tourney_date'],plt_2_4['counts'],color = 'orange')\n",
        "\n",
        "plt.title('FIGURE 3: WINNING AGE GROUP FEMALE PLAYERS', fontweight='bold', fontsize=18)\n",
        "plt.xlabel(\"YEAR\", fontsize=18)\n",
        "plt.ylabel(\"NO. OF PLAYERS\", fontsize=18)\n",
        "\n",
        "plt.legend(values)\n",
        "\n",
        "plt.show()"
      ],
      "execution_count": null,
      "outputs": []
    },
    {
      "cell_type": "markdown",
      "metadata": {
        "id": "m5EE7ZrBD4Rr"
      },
      "source": [
        "**The above graph gives a view of age vs year of female players, which shows us which age group performed well given an year. The colors represent the following**\n",
        "\n",
        "**1. Blue : Ages 20 to 25**\n",
        "\n",
        "**2. Red: Ages 25 to 30**\n",
        "\n",
        "**3. Green: Ages 30 to 35**\n",
        "\n",
        "**4. Orange: Ages 35 and above**\n",
        "\n",
        "**We can conclude that female players are more likely to win when they are in the age group of 20 to 25, not consistent, but this age group has the maximum wins overall.**\n",
        "\n",
        "**Female players are leaste likely to play and win with age above 35.**"
      ]
    },
    {
      "cell_type": "markdown",
      "metadata": {
        "id": "feDNpT1uqxFt"
      },
      "source": [
        "---"
      ]
    },
    {
      "cell_type": "markdown",
      "metadata": {
        "id": "sVMr80oLqmmM"
      },
      "source": [
        "#**LET US NOW BEGIN OUR DESCRIPTIVE ANALYSIS**"
      ]
    },
    {
      "cell_type": "markdown",
      "metadata": {
        "id": "3Sf_5SCTr3cx"
      },
      "source": [
        "**First let us look at our Datasets again**"
      ]
    },
    {
      "cell_type": "code",
      "metadata": {
        "id": "S3icnjDYqtr-"
      },
      "source": [
        "new_male_data.info()"
      ],
      "execution_count": null,
      "outputs": []
    },
    {
      "cell_type": "code",
      "metadata": {
        "id": "txf_GhVasC6I"
      },
      "source": [
        "new_female_data.info()"
      ],
      "execution_count": null,
      "outputs": []
    },
    {
      "cell_type": "markdown",
      "metadata": {
        "id": "XjcYKmAQxCNz"
      },
      "source": [
        "#**METHOD 1: MEASURES OF FREQUENCY**\n",
        "\n",
        "In descriptive analysis, it is essential to know how frequently a certain event or response is likely to occur. This is the prime purpose of measures of frequency to make like a count or percent."
      ]
    },
    {
      "cell_type": "markdown",
      "metadata": {
        "id": "IltF5dJ0xOXx"
      },
      "source": [
        "**Let us see how frequently certain variables feature in our datasets**"
      ]
    },
    {
      "cell_type": "code",
      "metadata": {
        "id": "-RgDrFX4wQ6g"
      },
      "source": [
        "frequency_male = new_male_data['surface'].value_counts(dropna=False)\n",
        "frequency_male"
      ],
      "execution_count": null,
      "outputs": []
    },
    {
      "cell_type": "code",
      "source": [
        "frequency_female = new_female_data['surface'].value_counts(dropna=False)\n",
        "frequency_female"
      ],
      "metadata": {
        "id": "jikNhDQabyTu"
      },
      "execution_count": null,
      "outputs": []
    },
    {
      "cell_type": "code",
      "source": [
        "mpl.rcParams['figure.figsize'] = (12,8)\n",
        "\n",
        "n_groups = 5\n",
        "\n",
        "values = ['Hard','Clay','Carpet','Grass','Not Mentioned']\n",
        "fig, ax = plt.subplots()\n",
        "index = np.arange(n_groups)\n",
        "bar_width = 0.35\n",
        "opacity = 0.8\n",
        "\n",
        "rects1 = plt.bar(index, frequency_male, bar_width,\n",
        "alpha=opacity,\n",
        "color='b',\n",
        "label='Male')\n",
        "\n",
        "rects2 = plt.bar(index + bar_width, frequency_female, bar_width,\n",
        "alpha=opacity,\n",
        "color='r',\n",
        "label='Female')\n",
        "\n",
        "plt.xlabel(\"\\nTYPE OF SURFACE\", fontsize= 18)\n",
        "plt.ylabel(\"NO. OF MATCHES\\n\", fontsize=18)\n",
        "plt.title(\"\\n\\nFIGURE 4: FREQUENCY OF DIFFERENT SURFACES USED FOR MALE AND FEMALE PLAYERS\\n\\n\", fontweight = 'bold', fontsize=18)\n",
        "plt.xticks(index + (bar_width/2), values)\n",
        "plt.legend()\n",
        "\n",
        "plt.tight_layout()\n",
        "plt.show()"
      ],
      "metadata": {
        "id": "wjNH5AsnceqE"
      },
      "execution_count": null,
      "outputs": []
    },
    {
      "cell_type": "markdown",
      "metadata": {
        "id": "B3bBttU_0Pmq"
      },
      "source": [
        "**The above values show us that the 'Hard' type of surface is the most used for playing the game.**\n",
        "**But just knowing that doesn't tell us a lot about how each country performs on those surfaces.**\n",
        "\n",
        "**Let us find out the winner and loser counts for each country on each surface.** "
      ]
    },
    {
      "cell_type": "code",
      "metadata": {
        "id": "RnXK06iBxf3Y"
      },
      "source": [
        "count = new_male_data.groupby(['winner_ioc','surface']).size()\n",
        "print(count.to_markdown())"
      ],
      "execution_count": null,
      "outputs": []
    },
    {
      "cell_type": "code",
      "metadata": {
        "id": "q_SJ74UiyJUn"
      },
      "source": [
        "count = new_male_data.groupby(['loser_ioc','surface']).size()\n",
        "print(count.to_markdown())"
      ],
      "execution_count": null,
      "outputs": []
    },
    {
      "cell_type": "markdown",
      "metadata": {
        "id": "N2Fd3VYK3NI5"
      },
      "source": [
        "**The above values give us more information on how each country performs on different type of surface.**\n",
        "\n",
        "**For example, for USA**\n",
        "\n",
        "**The counts for each type of surface for winning players and losing players in the Male Dataset are:**\n",
        "\n",
        "**Carpet: 7048 wins, 5975 losses**\n",
        "\n",
        "**Clay: 7225 wins, 7413 losses**\n",
        "\n",
        "**Grass: 4809, wins, 4272 losses**\n",
        "\n",
        "**Hard: 16769 wins, 14717 losses**"
      ]
    },
    {
      "cell_type": "code",
      "metadata": {
        "id": "zu9lL33o1kTn"
      },
      "source": [
        "count = new_female_data.groupby(['winner_ioc','surface']).size()\n",
        "print(count.to_markdown())"
      ],
      "execution_count": null,
      "outputs": []
    },
    {
      "cell_type": "code",
      "metadata": {
        "id": "z5xDiAk32MwJ"
      },
      "source": [
        "count = new_female_data.groupby(['loser_ioc','surface']).size()\n",
        "print(count.to_markdown())"
      ],
      "execution_count": null,
      "outputs": []
    },
    {
      "cell_type": "markdown",
      "metadata": {
        "id": "s5oSVieS_s3f"
      },
      "source": [
        "**In the same way, the counts for each type of surface for winning players and losing players in the Female Dataset for USA are:**\n",
        "\n",
        "**Carpet: 5308 wins, 5085 losses**\n",
        "\n",
        "**Clay: 6940 wins, 6966 losses**\n",
        "\n",
        "**Grass: 5655, wins, 4906 losses**\n",
        "\n",
        "**Hard: 13686 wins, 12701 losses**"
      ]
    },
    {
      "cell_type": "markdown",
      "metadata": {
        "id": "jbVZOtwmAPeE"
      },
      "source": [
        "**This shows us that even though USA has played maximum matches on the 'Hard' type of surface, the type of surface does not give us any insight into the reason for wins or losses for USA.**\n",
        "\n",
        "**Hence we continue our analysis**"
      ]
    },
    {
      "cell_type": "markdown",
      "metadata": {
        "id": "6Km5vE64A3kF"
      },
      "source": [
        "#**METHOD 2: MEASURES OF CENTRAL TENDENCY**\n",
        "\n",
        "In descriptive analysis, it is also important to find out the Central (or average) Tendency or response. Central Tendency is measured with the use of three averages – mean, median, and mode."
      ]
    },
    {
      "cell_type": "code",
      "metadata": {
        "id": "thMbrZBGCEVM"
      },
      "source": [
        "print ('The mean age of winning male players is:')\n",
        "print(new_male_data['winner_age'].mean())\n",
        "print('\\n')\n",
        "print ('The mean age of winning female players is:')\n",
        "print(new_female_data['winner_age'].mean())"
      ],
      "execution_count": null,
      "outputs": []
    },
    {
      "cell_type": "markdown",
      "metadata": {
        "id": "6iZoSo6jG4Nq"
      },
      "source": [
        "**The above mean values tell us that male players around the age of 25 have maximum chances of winning a match, while female players around the age of 23 have the maximum chance.**\n",
        "\n",
        "**These values can also be verified with the *figure 2* and *figure 3* respectively which also concluded that male players between the age of 25-30 had higher win percentage and female players between the age of 20-25 had higher win percentage.**"
      ]
    },
    {
      "cell_type": "code",
      "metadata": {
        "id": "hQwE7XAhEUOF"
      },
      "source": [
        "print ('The median height of winning male players is:')\n",
        "print(new_male_data['winner_ht'].median())\n",
        "print('\\n')\n",
        "print ('The median height of winning female players is:')\n",
        "print(new_female_data['winner_ht'].median())"
      ],
      "execution_count": null,
      "outputs": []
    },
    {
      "cell_type": "markdown",
      "metadata": {
        "id": "7xxvpToMJgWe"
      },
      "source": [
        "**The above measure of median tells us that Male Players have a prevalent height of 184cms and female players have a common height of 172 cms.**"
      ]
    },
    {
      "cell_type": "markdown",
      "metadata": {
        "id": "maF2gVOIKApz"
      },
      "source": [
        "#**MEASURES OF DISPERSION**\n",
        "\n",
        "Sometimes, it is important to know how data is divided across a range."
      ]
    },
    {
      "cell_type": "code",
      "metadata": {
        "id": "Lkv1iUmLKPG7"
      },
      "source": [
        "print('The variance is:')\n",
        "print(new_male_data['winner_age'].var())\n",
        "print('\\n')\n",
        "print('The standard deviation is:')\n",
        "print(new_male_data['winner_age'].std())"
      ],
      "execution_count": null,
      "outputs": []
    },
    {
      "cell_type": "code",
      "metadata": {
        "id": "ChDyFVNCKu1L"
      },
      "source": [
        "print('The variance is:')\n",
        "print(new_female_data['winner_age'].var())\n",
        "print('\\n')\n",
        "print('The standard deviation is:')\n",
        "print(new_female_data['winner_age'].std())"
      ],
      "execution_count": null,
      "outputs": []
    },
    {
      "cell_type": "markdown",
      "metadata": {
        "id": "xymF4RpJMK1v"
      },
      "source": [
        "**The variance is the average of the squared differences from the mean. A high variance tells us that the values in our dataset are far from their mean. So, our data will have high levels of variability. On the other hand, a low variance tells us that the values are quite close to the mean. In this case, the data will have low levels of variability.**\n",
        "\n",
        "**Standard deviation is a statistic that looks at how far from the mean a group of numbers is, by using the square root of the variance. The calculation of variance uses squares because it weighs outliers more heavily than data closer to the mean. This calculation also prevents differences above the mean from canceling out those below, which would result in a variance of zero.**"
      ]
    },
    {
      "cell_type": "markdown",
      "metadata": {
        "id": "vrUuzxEzPmfa"
      },
      "source": [
        "**Therefore, according to our variance and standard devaition values we can say that our dataset is concentrated around the mean values and there are not many outliers in it.**"
      ]
    },
    {
      "cell_type": "code",
      "metadata": {
        "id": "AfIIvvdMLi20"
      },
      "source": [
        "new_male_data.skew()"
      ],
      "execution_count": null,
      "outputs": []
    },
    {
      "cell_type": "code",
      "metadata": {
        "id": "AUAGzBlmQMAE"
      },
      "source": [
        "new_female_data.skew()"
      ],
      "execution_count": null,
      "outputs": []
    },
    {
      "cell_type": "markdown",
      "metadata": {
        "id": "L837qNMcQ9M3"
      },
      "source": [
        "**The skew value tells us whether our data is symmetric or not. A value less than -1 is skewed to the left; that greater than 1 is skewed to the right. A value between -1 and 1 is symmetric.**\n",
        "\n",
        "**We can see that the Male Dataset is symmetric with values being between -1 and 1, while the Female Dataset might be skewed to the left a little since the value for loser_ht is less than -1.**"
      ]
    },
    {
      "cell_type": "markdown",
      "metadata": {
        "id": "Qt9fgm6tSlAq"
      },
      "source": [
        "#**MEASURES OF POSITION**\n",
        "\n",
        "Descriptive analysis also involves identifying the position of a single value or its response in relation to others."
      ]
    },
    {
      "cell_type": "code",
      "metadata": {
        "id": "KuNtlzKrSzJw"
      },
      "source": [
        "print(\"Q1 quantile of Winning Male Players height : \", np.quantile(new_male_data['winner_ht'], .25, interpolation='midpoint'))\n",
        "print(\"Q2 quantile of Winning Male Players height : \", np.quantile(new_male_data['winner_ht'], .50, interpolation='midpoint'))\n",
        "print(\"Q3 quantile of Winning Male Players height : \", np.quantile(new_male_data['winner_ht'], .75, interpolation='midpoint'))\n",
        "print(\"Q4 quantile of Winning Male Players height : \", np.quantile(new_male_data['winner_ht'], 1.0, interpolation='midpoint'))"
      ],
      "execution_count": null,
      "outputs": []
    },
    {
      "cell_type": "markdown",
      "metadata": {
        "id": "Wf94Xe9hUHUU"
      },
      "source": [
        "**This measure tells us that male players need to have a height of 6ft and above to be in the top 25%.**"
      ]
    },
    {
      "cell_type": "code",
      "metadata": {
        "id": "iLLFGrAhTHAV"
      },
      "source": [
        "print(\"Q1 quantile of Winning Female Players height : \", np.quantile(new_female_data['winner_ht'], .25, interpolation='midpoint'))\n",
        "print(\"Q2 quantile of Winning Female Players height : \", np.quantile(new_female_data['winner_ht'], .50, interpolation='midpoint'))\n",
        "print(\"Q3 quantile of Winning Female Players height : \", np.quantile(new_female_data['winner_ht'], .75, interpolation='midpoint'))\n",
        "print(\"Q4 quantile of Winning Female Players height : \", np.quantile(new_female_data['winner_ht'], 1.0, interpolation='midpoint'))"
      ],
      "execution_count": null,
      "outputs": []
    },
    {
      "cell_type": "markdown",
      "metadata": {
        "id": "QshFrrttUtUs"
      },
      "source": [
        "**This measure tells us that female players need to have a height of 5.6ft and above to be in the top 25%.**"
      ]
    },
    {
      "cell_type": "markdown",
      "metadata": {
        "id": "LYlFCa0jaDBv"
      },
      "source": [
        "#**CONTINGENCY TABLE**\n",
        "\n",
        "In a contingency table, each cell represents the combination of the two variables. You need to read across the table to witness how the two variables i.e., independent, and dependent variables relate to each other."
      ]
    },
    {
      "cell_type": "markdown",
      "metadata": {
        "id": "miBAJ4P6b9Os"
      },
      "source": [
        "**First lets add a column to our datasets dividing the winner ages into various groups.**"
      ]
    },
    {
      "cell_type": "code",
      "metadata": {
        "id": "S53Rxf4Gaf5E"
      },
      "source": [
        "conditions = [\n",
        "    (new_male_data['winner_age'] <20),\n",
        "    (new_male_data['winner_age'] >=20) & (new_male_data['winner_age'] <25),\n",
        "    (new_male_data['winner_age'] >=25) & (new_male_data['winner_age'] <30),\n",
        "    (new_male_data['winner_age'] >=30) & (new_male_data['winner_age'] <35),\n",
        "    (new_male_data['winner_age'] >35)  ]\n",
        "\n",
        "values = ['0 to 20', '20 to 25', '25 to 30', '30 to 35', '35+']\n",
        "\n",
        "\n",
        "new_male_data['age_group'] = np.select(conditions, values)\n",
        "\n",
        "\n",
        "new_male_data.head()"
      ],
      "execution_count": null,
      "outputs": []
    },
    {
      "cell_type": "code",
      "metadata": {
        "id": "r4XORLs0cOmq"
      },
      "source": [
        "conditions = [\n",
        "    (new_female_data['winner_age'] <20),\n",
        "    (new_female_data['winner_age'] >=20) & (new_female_data['winner_age'] <25),\n",
        "    (new_female_data['winner_age'] >=25) & (new_female_data['winner_age'] <30),\n",
        "    (new_female_data['winner_age'] >=30) & (new_female_data['winner_age'] <35),\n",
        "    (new_female_data['winner_age'] >35)  ]\n",
        "\n",
        "values = ['0 to 20', '20 to 25', '25 to 30', '30 to 35', '35+']\n",
        "\n",
        "\n",
        "new_female_data['age_group'] = np.select(conditions, values)\n",
        "\n",
        "\n",
        "new_female_data.head()"
      ],
      "execution_count": null,
      "outputs": []
    },
    {
      "cell_type": "code",
      "metadata": {
        "id": "LgtU4xPRUive"
      },
      "source": [
        "male_age_hand = pd.crosstab([new_male_data.winner_hand],new_male_data.age_group, margins = False)\n",
        "print(male_age_hand.to_markdown())"
      ],
      "execution_count": null,
      "outputs": []
    },
    {
      "cell_type": "code",
      "source": [
        "import seaborn as sns; sns.set()\n",
        "import matplotlib.pyplot as plt\n",
        "\n",
        "fig = plt.figure(num=None, figsize=(8, 6), dpi=100, facecolor='w', edgecolor='#000000')\n",
        "\n",
        "plt.clf()\n",
        "\n",
        "ax = fig.add_subplot(111)\n",
        "\n",
        "ax.set_aspect(1)\n",
        "\n",
        "res = sns.heatmap(male_age_hand, annot=True, fmt='.2f', cmap='Spectral', cbar_kws={\"orientation\": \"vertical\"}, linewidth= 0.01, linecolor='#000000')\n",
        "\n",
        "plt.title('\\n\\nFIGURE 5: CONTINGENCY TABLE OF MALE PLAYERS\\n DOMINANT HAND VS AGE GROUP\\n\\n\\n', fontweight='bold', fontsize=18)\n",
        "plt.xlabel('\\nAGE_GROUP', fontsize=18)\n",
        "plt.ylabel('WINNER_HAND\\n', fontsize=18)"
      ],
      "metadata": {
        "id": "3fa39wqwhF9T"
      },
      "execution_count": null,
      "outputs": []
    },
    {
      "cell_type": "code",
      "metadata": {
        "id": "KnrYE4qcZSYa"
      },
      "source": [
        "female_age_hand = pd.crosstab([new_female_data.winner_hand],new_female_data.age_group, margins = False)\n",
        "print(female_age_hand.to_markdown())"
      ],
      "execution_count": null,
      "outputs": []
    },
    {
      "cell_type": "code",
      "source": [
        "import seaborn as sns; sns.set()\n",
        "import matplotlib.pyplot as plt\n",
        "\n",
        "fig = plt.figure(num=None, figsize=(8, 6), dpi=100, facecolor='w', edgecolor='#000000')\n",
        "\n",
        "plt.clf()\n",
        "\n",
        "ax = fig.add_subplot(111)\n",
        "\n",
        "ax.set_aspect(1)\n",
        "\n",
        "res = sns.heatmap(female_age_hand, annot=True, fmt='.2f', cmap='Spectral_r', cbar_kws={\"orientation\": \"vertical\"}, linewidth= 0.01, linecolor='#000000')\n",
        "\n",
        "plt.title('\\n\\nFIGURE 6: CONTINGENCY TABLE OF FEMALE PLAYERS\\n DOMINANT HAND VS AGE GROUP\\n\\n\\n', fontweight='bold', fontsize=18)\n",
        "plt.xlabel('\\nAGE_GROUP', fontsize=18)\n",
        "plt.ylabel('WINNER_HAND\\n', fontsize=18)"
      ],
      "metadata": {
        "id": "H02BZTavlgkR"
      },
      "execution_count": null,
      "outputs": []
    },
    {
      "cell_type": "markdown",
      "metadata": {
        "id": "eKD66OGF9cZ2"
      },
      "source": [
        "#**K-MEANS CLUSTERING**"
      ]
    },
    {
      "cell_type": "code",
      "metadata": {
        "id": "6qZgNP1FEPVN"
      },
      "source": [
        "df1 = new_male_data\n",
        "df2 = new_female_data"
      ],
      "execution_count": null,
      "outputs": []
    },
    {
      "cell_type": "markdown",
      "metadata": {
        "id": "p-ENUTITLqN-"
      },
      "source": [
        "**First, for the Male Players Dataset**"
      ]
    },
    {
      "cell_type": "code",
      "metadata": {
        "id": "o5Xg3IipH3QR"
      },
      "source": [
        "kmeans1_1 = KMeans(n_clusters=5, random_state=0)\n",
        "df1['cluster'] = kmeans1_1.fit_predict(df1[['winner_age', 'winner_ht']])\n",
        "\n",
        "colors = ['#DF2020', '#81DF20', '#2095DF', '#9496E6', '#94F2E6']\n",
        "df1['c'] = df1.cluster.map({0:colors[0], 1:colors[1], 2:colors[2], 3:colors[3], 4:colors[4]})"
      ],
      "execution_count": null,
      "outputs": []
    },
    {
      "cell_type": "code",
      "metadata": {
        "id": "Rz2YT3fi-cQB"
      },
      "source": [
        "fig, ax = plt.subplots(1, figsize=(10,6))\n",
        "\n",
        "plt.scatter(df1.winner_age, df1.winner_ht, c=df1.c, alpha = 0.6, s=10)\n",
        "\n",
        "plt.plot([df1.winner_age.mean()]*2, [0,200], color='black', lw=0.5, linestyle='--')\n",
        "plt.xlim(0,200)\n",
        "\n",
        "plt.plot([0,200], [df1.winner_ht.mean()]*2, color='black', lw=0.5, linestyle='--')\n",
        "plt.ylim(0,200)\n",
        "\n",
        "legend_elements = [Line2D([0], [0], color='black', lw=0.5, linestyle='--', label='Average')]\n",
        "\n",
        "cluster_leg = [Line2D([0], [0], marker='o', color='w', label='Cluster {}'.format(i+1), \n",
        "               markerfacecolor=mcolor, markersize=5) for i, mcolor in enumerate(colors)]\n",
        "\n",
        "legend_elements.extend(cluster_leg)\n",
        "\n",
        "plt.legend(handles=legend_elements, loc='lower right', ncol=1)\n",
        "\n",
        "ax.set_xlim([0,75])\n",
        "ax.set_ylim([125,200])\n",
        "\n",
        "plt.title('\\n\\nFIGURE 7: MALE WINNING PLAYERS AGE VS HEIGHT STATS\\n\\n', fontweight='bold', fontsize=18)\n",
        "plt.xlabel('\\nWINNER_AGE', fontsize=18)\n",
        "plt.ylabel('WINNER_HT\\n', fontsize=18)"
      ],
      "execution_count": null,
      "outputs": []
    },
    {
      "cell_type": "code",
      "metadata": {
        "id": "5WzjzHWiKb0I"
      },
      "source": [
        "kmeans1_2 = KMeans(n_clusters=5, random_state=0)\n",
        "df1['cluster'] = kmeans1_2.fit_predict(df1[['loser_age', 'loser_ht']])\n",
        "\n",
        "colors = ['#DF2020', '#81DF20', '#2095DF', '#9496E6', '#94F2E6']\n",
        "df1['c'] = df1.cluster.map({0:colors[0], 1:colors[1], 2:colors[2], 3:colors[3], 4:colors[4]})"
      ],
      "execution_count": null,
      "outputs": []
    },
    {
      "cell_type": "code",
      "metadata": {
        "id": "FhyLaRcQ_rj5"
      },
      "source": [
        "fig, ax = plt.subplots(1, figsize=(10,6))\n",
        "\n",
        "plt.scatter(df1.loser_age, df1.loser_ht, c=df1.c, alpha = 0.6, s=10)\n",
        "\n",
        "plt.plot([df1.loser_age.mean()]*2, [0,200], color='black', lw=0.5, linestyle='--')\n",
        "plt.xlim(0,200)\n",
        "\n",
        "plt.plot([0,200], [df1.loser_ht.mean()]*2, color='black', lw=0.5, linestyle='--')\n",
        "plt.ylim(0,200)\n",
        "\n",
        "legend_elements = [Line2D([0], [0], color='black', lw=0.5, linestyle='--', label='Average')]\n",
        "\n",
        "cluster_leg = [Line2D([0], [0], marker='o', color='w', label='Cluster {}'.format(i+1), \n",
        "               markerfacecolor=mcolor, markersize=5) for i, mcolor in enumerate(colors)]\n",
        "\n",
        "legend_elements.extend(cluster_leg)\n",
        "\n",
        "plt.legend(handles=legend_elements, loc='upper right', ncol=1)\n",
        "\n",
        "ax.set_xlim([0,75])\n",
        "ax.set_ylim([125,200])\n",
        "\n",
        "plt.title('\\n\\nFIGURE 8: MALE LOSING PLAYERS AGE VS HEIGHT STATS\\n\\n', fontweight='bold', fontsize=18)\n",
        "plt.xlabel('\\nLOSER_AGE', fontsize=18)\n",
        "plt.ylabel('LOSER_HT\\n', fontsize=18)"
      ],
      "execution_count": null,
      "outputs": []
    },
    {
      "cell_type": "markdown",
      "metadata": {
        "id": "2f7vckz8Ni6k"
      },
      "source": [
        "**Now for the Female Players Dataset**"
      ]
    },
    {
      "cell_type": "code",
      "metadata": {
        "id": "qdkx57gUMaeX"
      },
      "source": [
        "kmeans2_1 = KMeans(n_clusters=5, random_state=0)\n",
        "df2['cluster'] = kmeans2_1.fit_predict(df2[['winner_age', 'winner_ht']])\n",
        "\n",
        "colors = ['#DF2020', '#81DF20', '#2095DF', '#9496E6', '#94F2E6']\n",
        "df2['c'] = df2.cluster.map({0:colors[0], 1:colors[1], 2:colors[2], 3:colors[3], 4:colors[4]})"
      ],
      "execution_count": null,
      "outputs": []
    },
    {
      "cell_type": "code",
      "metadata": {
        "id": "r4-MmmLlN9CS"
      },
      "source": [
        "fig, ax = plt.subplots(1, figsize=(10,6))\n",
        "\n",
        "plt.scatter(df2.winner_age, df2.winner_ht, c=df2.c, alpha = 0.6, s=10)\n",
        "\n",
        "plt.plot([df2.winner_age.mean()]*2, [0,200], color='black', lw=0.5, linestyle='--')\n",
        "plt.xlim(0,200)\n",
        "\n",
        "plt.plot([0,200], [df2.winner_ht.mean()]*2, color='black', lw=0.5, linestyle='--')\n",
        "plt.ylim(0,200)\n",
        "\n",
        "legend_elements = [Line2D([0], [0], color='black', lw=0.5, linestyle='--', label='Average')]\n",
        "\n",
        "cluster_leg = [Line2D([0], [0], marker='o', color='w', label='Cluster {}'.format(i+1), \n",
        "               markerfacecolor=mcolor, markersize=5) for i, mcolor in enumerate(colors)]\n",
        "\n",
        "legend_elements.extend(cluster_leg)\n",
        "\n",
        "plt.legend(handles=legend_elements, loc='upper right', ncol=1)\n",
        "\n",
        "ax.set_xlim([0,75])\n",
        "ax.set_ylim([125,200])\n",
        "\n",
        "plt.title('\\n\\nFIGURE 9: FEMALE WINNING PLAYERS AGE VS HEIGHT STATS\\n\\n', fontweight='bold', fontsize=18)\n",
        "plt.xlabel('\\nWINNER_AGE', fontsize=18)\n",
        "plt.ylabel('WINNER_HT\\n', fontsize=18)"
      ],
      "execution_count": null,
      "outputs": []
    },
    {
      "cell_type": "code",
      "metadata": {
        "id": "2qWdVDu8OLKy"
      },
      "source": [
        "kmeans2_2 = KMeans(n_clusters=5, random_state=0)\n",
        "df2['cluster'] = kmeans2_2.fit_predict(df2[['loser_age', 'loser_ht']])\n",
        "\n",
        "centroids = kmeans2_2.cluster_centers_\n",
        "cen_x = [i[0] for i in centroids] \n",
        "cen_y = [i[1] for i in centroids]\n",
        "\n",
        "df2['cen_x'] = df2.cluster.map({0:cen_x[0], 1:cen_x[1], 2:cen_x[2]})\n",
        "df2['cen_y'] = df2.cluster.map({0:cen_y[0], 1:cen_y[1], 2:cen_y[2]})\n",
        "\n",
        "colors = ['#DF2020', '#81DF20', '#2095DF', '#9496E6', '#94F2E6']\n",
        "df2['c'] = df2.cluster.map({0:colors[0], 1:colors[1], 2:colors[2], 3:colors[3], 4:colors[4]})"
      ],
      "execution_count": null,
      "outputs": []
    },
    {
      "cell_type": "code",
      "metadata": {
        "id": "tbO0qqh3Oa30"
      },
      "source": [
        "from matplotlib.lines import Line2D\n",
        "fig, ax = plt.subplots(1, figsize=(10,6))\n",
        "\n",
        "plt.scatter(df2.loser_age, df2.loser_ht, c=df2.c, alpha = 0.6, s=10)\n",
        "\n",
        "plt.plot([df2.loser_age.mean()]*2, [0,200], color='black', lw=0.5, linestyle='--')\n",
        "plt.xlim(0,200)\n",
        "\n",
        "plt.plot([0,200], [df2.loser_ht.mean()]*2, color='black', lw=0.5, linestyle='--')\n",
        "plt.ylim(0,200)\n",
        "\n",
        "legend_elements = [Line2D([0], [0], color='black', lw=0.5, linestyle='--', label='Average')]\n",
        "\n",
        "cluster_leg = [Line2D([0], [0], marker='o', color='w', label='Cluster {}'.format(i+1), \n",
        "               markerfacecolor=mcolor, markersize=5) for i, mcolor in enumerate(colors)]\n",
        "\n",
        "legend_elements.extend(cluster_leg)\n",
        "\n",
        "plt.legend(handles=legend_elements, loc='upper right', ncol=1)\n",
        "\n",
        "ax.set_xlim([0,75])\n",
        "ax.set_ylim([125,200])\n",
        "\n",
        "plt.title('\\n\\nFIGURE 10: FEMALE LOSING PLAYERS AGE VS HEIGHT STATS\\n\\n', fontweight='bold', fontsize=18)\n",
        "plt.xlabel('\\nLOSER_AGE', fontsize=18)\n",
        "plt.ylabel('LOSER_HT\\n', fontsize=18)"
      ],
      "execution_count": null,
      "outputs": []
    },
    {
      "cell_type": "markdown",
      "source": [
        "#**USA VS REST OF THE WORLD**"
      ],
      "metadata": {
        "id": "m6gneHZveUg0"
      }
    },
    {
      "cell_type": "markdown",
      "source": [
        "**FOR THE MALE DATASET**"
      ],
      "metadata": {
        "id": "gWkkTKI0jHwZ"
      }
    },
    {
      "cell_type": "code",
      "source": [
        "usa_mwin = new_male_data[new_male_data['winner_ioc']=='USA']['age_group'].value_counts().sort_index()\n",
        "usa_mwin"
      ],
      "metadata": {
        "id": "GggRyJOuXOx-"
      },
      "execution_count": null,
      "outputs": []
    },
    {
      "cell_type": "code",
      "source": [
        "row_mwin = new_male_data[new_male_data['winner_ioc']!='USA']['age_group'].value_counts().sort_index()\n",
        "row_mwin"
      ],
      "metadata": {
        "id": "I4P57Dp8h20S"
      },
      "execution_count": null,
      "outputs": []
    },
    {
      "cell_type": "code",
      "source": [
        "esp_mwin = new_male_data[new_male_data['winner_ioc']=='ESP']['age_group'].value_counts().sort_index()\n",
        "esp_mwin"
      ],
      "metadata": {
        "id": "N-XTi-DgYJsd"
      },
      "execution_count": null,
      "outputs": []
    },
    {
      "cell_type": "code",
      "source": [
        "fra_mwin = new_male_data[new_male_data['winner_ioc']=='FRA']['age_group'].value_counts().sort_index()\n",
        "fra_mwin"
      ],
      "metadata": {
        "id": "fjqTpBipez9A"
      },
      "execution_count": null,
      "outputs": []
    },
    {
      "cell_type": "code",
      "source": [
        "ger_mwin = new_male_data[new_male_data['winner_ioc']=='GER']['age_group'].value_counts().sort_index()\n",
        "ger_mwin"
      ],
      "metadata": {
        "id": "nIVplpc3fPDA"
      },
      "execution_count": null,
      "outputs": []
    },
    {
      "cell_type": "code",
      "source": [
        "rus_mwin = new_male_data[new_male_data['winner_ioc']=='RUS']['age_group'].value_counts().sort_index()\n",
        "rus_mwin"
      ],
      "metadata": {
        "id": "3jLRH-rsh-WO"
      },
      "execution_count": null,
      "outputs": []
    },
    {
      "cell_type": "code",
      "source": [
        "ita_mwin = new_male_data[new_male_data['winner_ioc']=='ITA']['age_group'].value_counts().sort_index()\n",
        "ita_mwin"
      ],
      "metadata": {
        "id": "rAc3gP_giF92"
      },
      "execution_count": null,
      "outputs": []
    },
    {
      "cell_type": "code",
      "source": [
        "mpl.rcParams['figure.figsize'] = (15,8)\n",
        "\n",
        "n_groups = 5\n",
        "\n",
        "values = ['0 to 20','20 to 25','25 to 30','30 to 35','35 Above']\n",
        "fig, ax = plt.subplots()\n",
        "index = np.arange(n_groups)\n",
        "bar_width = 0.13\n",
        "opacity = 0.8\n",
        "\n",
        "rects1 = plt.bar(index, usa_mwin, bar_width,\n",
        "alpha=opacity,\n",
        "color='b',\n",
        "label='USA')\n",
        "\n",
        "rects2 = plt.bar(index + bar_width, fra_mwin, bar_width,\n",
        "alpha=opacity,\n",
        "color='r',\n",
        "label='France')\n",
        "\n",
        "rects3 = plt.bar(index + (2*bar_width), esp_mwin, bar_width,\n",
        "alpha=opacity,\n",
        "color='g',\n",
        "label='Spain')\n",
        "\n",
        "rects4 = plt.bar(index + (3*bar_width), ger_mwin, bar_width,\n",
        "alpha=opacity,\n",
        "color='purple',\n",
        "label='Germany')\n",
        "\n",
        "rects5 = plt.bar(index + (4*bar_width), rus_mwin, bar_width,\n",
        "alpha=opacity,\n",
        "color='Coral',\n",
        "label='Russia')\n",
        "\n",
        "rects6 = plt.bar(index + (5*bar_width), ita_mwin, bar_width,\n",
        "alpha=opacity,\n",
        "color='yellow',\n",
        "label='ITALY')\n",
        "\n",
        "plt.xlabel(\"\\nAGE GROUPS\", fontsize= 18)\n",
        "plt.ylabel(\"NO. OF MATCHES WON \\n\", fontsize=18)\n",
        "plt.title(\"\\n\\nFIGURE 11: WINS - USA VS POPULAR COUNTRIES (MALE PLAYERS)\\n\\n\", fontweight = 'bold', fontsize=18)\n",
        "plt.xticks(index + (bar_width+0.15), values)\n",
        "plt.legend()\n",
        "\n",
        "plt.tight_layout()\n",
        "plt.show()"
      ],
      "metadata": {
        "id": "U1IBXy2zZio-"
      },
      "execution_count": null,
      "outputs": []
    },
    {
      "cell_type": "code",
      "source": [
        "mpl.rcParams['figure.figsize'] = (15,8)\n",
        "\n",
        "n_groups = 5\n",
        "\n",
        "values = ['0 to 20','20 to 25','25 to 30','30 to 35','35 Above']\n",
        "fig, ax = plt.subplots()\n",
        "index = np.arange(n_groups)\n",
        "bar_width = 0.38\n",
        "opacity = 0.8\n",
        "\n",
        "rects1 = plt.bar(index, usa_mwin, bar_width,\n",
        "alpha=opacity,\n",
        "color='b',\n",
        "label='USA')\n",
        "\n",
        "rects2 = plt.bar(index + bar_width, row_mwin, bar_width,\n",
        "alpha=opacity,\n",
        "color='r',\n",
        "label='REST OF THE WORLD')\n",
        "\n",
        "plt.xlabel(\"\\nAGE GROUPS\", fontsize= 18)\n",
        "plt.ylabel(\"NO. OF MATCHES WON \\n\", fontsize=18)\n",
        "plt.title(\"\\n\\nFIGURE 12: WINS - USA VS REST OF THE WORLD (MALE PLAYERS)\\n\\n\", fontweight = 'bold', fontsize=18)\n",
        "plt.xticks(index + (bar_width+0.15), values)\n",
        "plt.legend()\n",
        "\n",
        "plt.tight_layout()\n",
        "plt.show()"
      ],
      "metadata": {
        "id": "j8qVVYRYjOcO"
      },
      "execution_count": null,
      "outputs": []
    },
    {
      "cell_type": "markdown",
      "source": [
        "**FOR FEMALE DATASET**"
      ],
      "metadata": {
        "id": "xFcbcAlkjiwT"
      }
    },
    {
      "cell_type": "code",
      "source": [
        "usa_fwin = new_female_data[new_female_data['winner_ioc']=='USA']['age_group'].value_counts().sort_index()\n",
        "usa_fwin"
      ],
      "metadata": {
        "id": "a8BxL7-tjl5P"
      },
      "execution_count": null,
      "outputs": []
    },
    {
      "cell_type": "code",
      "source": [
        "row_fwin = new_female_data[new_female_data['winner_ioc']!='USA']['age_group'].value_counts().sort_index()\n",
        "row_fwin"
      ],
      "metadata": {
        "id": "AkmCbFXPjsYE"
      },
      "execution_count": null,
      "outputs": []
    },
    {
      "cell_type": "code",
      "source": [
        "esp_fwin = new_female_data[new_female_data['winner_ioc']=='ESP']['age_group'].value_counts().sort_index()\n",
        "esp_fwin"
      ],
      "metadata": {
        "id": "ZGlTcjMkjsS4"
      },
      "execution_count": null,
      "outputs": []
    },
    {
      "cell_type": "code",
      "source": [
        "fra_fwin = new_female_data[new_female_data['winner_ioc']=='FRA']['age_group'].value_counts().sort_index()\n",
        "fra_fwin"
      ],
      "metadata": {
        "id": "F2IWW8zGjsPX"
      },
      "execution_count": null,
      "outputs": []
    },
    {
      "cell_type": "code",
      "source": [
        "ger_fwin = new_female_data[new_female_data['winner_ioc']=='GER']['age_group'].value_counts().sort_index()\n",
        "ger_fwin"
      ],
      "metadata": {
        "id": "JzO-wpkKjsM5"
      },
      "execution_count": null,
      "outputs": []
    },
    {
      "cell_type": "code",
      "source": [
        "rus_fwin = new_female_data[new_female_data['winner_ioc']=='RUS']['age_group'].value_counts().sort_index()\n",
        "rus_fwin"
      ],
      "metadata": {
        "id": "folN4jHFjsKU"
      },
      "execution_count": null,
      "outputs": []
    },
    {
      "cell_type": "code",
      "source": [
        "ita_fwin = new_female_data[new_female_data['winner_ioc']=='ITA']['age_group'].value_counts().sort_index()\n",
        "ita_fwin"
      ],
      "metadata": {
        "id": "lkZom1JrjsHz"
      },
      "execution_count": null,
      "outputs": []
    },
    {
      "cell_type": "code",
      "source": [
        "mpl.rcParams['figure.figsize'] = (15,8)\n",
        "\n",
        "n_groups = 5\n",
        "\n",
        "values = ['0 to 20','20 to 25','25 to 30','30 to 35','35 Above']\n",
        "fig, ax = plt.subplots()\n",
        "index = np.arange(n_groups)\n",
        "bar_width = 0.13\n",
        "opacity = 0.8\n",
        "\n",
        "rects1 = plt.bar(index, usa_fwin, bar_width,\n",
        "alpha=opacity,\n",
        "color='b',\n",
        "label='USA')\n",
        "\n",
        "rects2 = plt.bar(index + bar_width, fra_fwin, bar_width,\n",
        "alpha=opacity,\n",
        "color='r',\n",
        "label='France')\n",
        "\n",
        "rects3 = plt.bar(index + (2*bar_width), esp_fwin, bar_width,\n",
        "alpha=opacity,\n",
        "color='g',\n",
        "label='Spain')\n",
        "\n",
        "rects4 = plt.bar(index + (3*bar_width), ger_fwin, bar_width,\n",
        "alpha=opacity,\n",
        "color='purple',\n",
        "label='Germany')\n",
        "\n",
        "rects5 = plt.bar(index + (4*bar_width), rus_fwin, bar_width,\n",
        "alpha=opacity,\n",
        "color='Coral',\n",
        "label='Russia')\n",
        "\n",
        "rects6 = plt.bar(index + (5*bar_width), ita_fwin, bar_width,\n",
        "alpha=opacity,\n",
        "color='yellow',\n",
        "label='ITALY')\n",
        "\n",
        "plt.xlabel(\"\\nAGE GROUPS\", fontsize= 18)\n",
        "plt.ylabel(\"NO. OF MATCHES WON \\n\", fontsize=18)\n",
        "plt.title(\"\\n\\nFIGURE 13: WINS - USA VS POPULAR COUNTRIES (FEMALE PLAYERS)\\n\\n\", fontweight = 'bold', fontsize=18)\n",
        "plt.xticks(index + (bar_width+0.15), values)\n",
        "plt.legend()\n",
        "\n",
        "plt.tight_layout()\n",
        "plt.show()"
      ],
      "metadata": {
        "id": "q0NpiNayj6gI"
      },
      "execution_count": null,
      "outputs": []
    },
    {
      "cell_type": "code",
      "source": [
        "mpl.rcParams['figure.figsize'] = (15,8)\n",
        "\n",
        "n_groups = 5\n",
        "\n",
        "values = ['0 to 20','20 to 25','25 to 30','30 to 35','35 Above']\n",
        "fig, ax = plt.subplots()\n",
        "index = np.arange(n_groups)\n",
        "bar_width = 0.38\n",
        "opacity = 0.8\n",
        "\n",
        "rects1 = plt.bar(index, usa_fwin, bar_width,\n",
        "alpha=opacity,\n",
        "color='b',\n",
        "label='USA')\n",
        "\n",
        "rects2 = plt.bar(index + bar_width, row_fwin, bar_width,\n",
        "alpha=opacity,\n",
        "color='r',\n",
        "label='REST OF THE WORLD')\n",
        "\n",
        "plt.xlabel(\"\\nAGE GROUPS\", fontsize= 18)\n",
        "plt.ylabel(\"NO. OF MATCHES WON \\n\", fontsize=18)\n",
        "plt.title(\"\\n\\nFIGURE 14: WINS - USA VS REST OF THE WORLD (FEMALE PLAYERS)\\n\\n\", fontweight = 'bold', fontsize=18)\n",
        "plt.xticks(index + (bar_width+0.15), values)\n",
        "plt.legend()\n",
        "\n",
        "plt.tight_layout()\n",
        "plt.show()"
      ],
      "metadata": {
        "id": "kKgnomkSj_QQ"
      },
      "execution_count": null,
      "outputs": []
    },
    {
      "cell_type": "markdown",
      "source": [
        "#**CONCLUSION**\n",
        "\n",
        "###**Research Questions:**###\n",
        "\n",
        "Q1. What is the win percentage of players having the age in the range of 20-25, 25-30, 30-35 vs 35 and above for male and female players?\n",
        "\n",
        "--> Refer Figure 2 and 3.\n",
        "\n",
        "Q2. What is the different winning percentage of a player from a specific country on different surfaces?\n",
        "\n",
        "--> Refer Figure 1.\n",
        "\n",
        "Q3. The percentage of wins between players from the US vs other popular countries and between age groups ranging from 20-25, 25-30, 30-35 vs 35 and above.\n",
        "\n",
        "--> Refer Figure 11, 12, 13, 14.\n",
        "\n",
        "Q4. What factor is influencing the change in the trend of all male and female players winning the championship? If it's the surface, the age, or some other reason.\n",
        "\n",
        "--> Major deciding factors were Age and height.\n",
        "<br></br>\n",
        "###**Intresting things About Our Project:**###\n",
        "\n",
        "Q1: What was unique about the data?  Did you have to deal with imbalance? What data cleaning did you do? Outlier treatment?  \n",
        "\n",
        "--> This dataset is extremely good for descriptive analysis as it contains data from year 1970 to 2020 which contains ATP and WTA tennis tours. The data was raw initially and some of the features were not in the expected format such as Age which caused imbalance. We used various methods to clean the dataset for our analysis. There were missing/null values present so we calculated the total percentage of missing data and dropped the columns if error percentages were high. We replaced some values with mean value of the column or with a string. We used data reduction technique to streamline the analysis.\n",
        "\n",
        "Q2. Did you create any new additional features / variables?\n",
        "\n",
        "--> Yes. We created the field “Age” from “Date of Birth” for giving better analysis while comparing age wise performance in tournaments. Also we divided the age into 5 different age groups to better understand our dataset.\n",
        "\n",
        "Q3. What was the process you used for evaluation?  What was the best result?\n",
        "\n",
        "--> We used descriptive analysis to evaluate the dataset. Descriptive analysis is the process of using statistical techniques to describe or summarize a set of data. It is popular for its ability to generate accessible insights from otherwise uninterpreted data.\n",
        "\n",
        "Q4. What were the problems you faced? How did you solve them?\n",
        "\n",
        "--> Since the dataset was meant for descriptive analysis, meaningful visualization of the dataset was quite a challenge.\n",
        "\n",
        "Q5. What future work would you like to do? \n",
        "\n",
        "--> We would like add data about players physical and cardiological strength so that we can give predictive analysis.\n",
        "\n",
        "Q6. Instructions for individuals that may want to use your work\n",
        "\n",
        "--> Implement an ML model which can be further integrated into a webpage for better user accessibility.\n"
      ],
      "metadata": {
        "id": "McaWn_lrIxTr"
      }
    },
    {
      "cell_type": "code",
      "source": [
        ""
      ],
      "metadata": {
        "id": "qokm3xNELkRr"
      },
      "execution_count": null,
      "outputs": []
    }
  ]
}